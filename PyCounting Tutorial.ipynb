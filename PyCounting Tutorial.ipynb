{
 "metadata": {
  "name": "",
  "signature": "sha256:5c61063954a3c8c895567b583373a339b548c3b9cc270779e9c605ec18a0651f"
 },
 "nbformat": 3,
 "nbformat_minor": 0,
 "worksheets": [
  {
   "cells": [
    {
     "cell_type": "heading",
     "level": 1,
     "metadata": {},
     "source": [
      "<u>PyCounting</u>"
     ]
    },
    {
     "cell_type": "heading",
     "level": 2,
     "metadata": {},
     "source": [
      "1. Allgemeines"
     ]
    },
    {
     "cell_type": "markdown",
     "metadata": {},
     "source": [
      "F\u00fcrs Elektronen-Counting sind auch bei der Analyse der aufgezeichneten Signale besondere Anforderungen notwendig. Die Digitalisierung und Analyse von Elektron-Counting Daten kann sich bereits f\u00fcr ein simples Zwei-Zustand-System sehr schwierig und m\u00fchselig erweisen. Diese Schwierigkeiten werden sicher nicht weniger f\u00fcr komplexere Systeme und h\u00f6here Samplingraten als einige 100kHz.\n",
      "\n",
      "Die Hauptschwierigkeiten liegen dabei in den beiden folgenden Punkten:\n",
      "\n",
      "* gro\u00dfe bin\u00e4re Datenmenge\n",
      "* jeder Datenpunkt muss einzeln bewertet werden\n",
      "\n",
      "Aus mehreren Gr\u00fcnden l\u00e4sst sich daher keine bekannte Standartsoftware verwenden:\n",
      "\n",
      "* Langsame Ausf\u00fchrgeschwindkeit\n",
      "* Arbeitsspeicher\n",
      "* spezielle Funktionen\n",
      "\n",
      "Zum Counten muss daher jede Funktion einzelnen programmiert oder wenigstens passend implementiert werden. In der Vergangeheit wurden dazu einzelne Skripte in C/C++ geschrieben. C/C++ bietet als kompilierte und hochoptimierte Sprache die zur Digitalisierung ben\u00f6tigte Geschwindkeit. Allerdings erfordert die Auswertung von physikalischen Daten auch immer:\n",
      "\n",
      "* graphische Darstellung\n",
      "* Manipulation (Gl\u00e4tten, FFT, ...)\n",
      "* Analyse (Fitten, Berechnen, ...)\n",
      "* Bewertung\n",
      "\n",
      "Die finale Bewertung muss anschlie\u00dfend wieder zur\u00fcck in die Analyse einflie\u00dfen. C/C++ ist zwar schnell aber damit zwangsl\u00e4ufig nicht dynamisch und interaktiv. Desweiteren sind graphische Darstellung, Manipulation und Anlyse in C/C++ nur mit riesigem Aufwand implementierbar. F\u00fcr Aufagben greift man daher \u00fcblicherweise auf geignete wissenschaftliche Programme zur Datenanlyse (IGOR, Matplab, ...) zur\u00fcck. Dazu m\u00fcssen die digitalisierten Signale und ermittelten Statistiken jedoch ersteinmal aufwendig exportiert und importiert werden. Export, Import und die Anpassung jedes Skriptes machen das R\u00fcckf\u00fchren von Ergebnissen sehr zeitaufwendig und fehleranf\u00e4llig. Der Geschwindkeitsvorteil von C/C++ ist dabei offensichtlich wieder hin. Ein ganz trivales Beispiel ist der Vergleich von den Rohdaten mit dem digitalisierten Signal an einer beliebigen Stelle.\n",
      "\n",
      "PyCounting versucht diese Schwierigkeiten zu beheben. Und vorallem m\u00f6chte es den Fokus von der Programmierung weglenken, hin auf die eigentliche Analyse der Counting Daten. Physiker sind bekanntlich sehr miese Programmierer. Das schnelle Ergebnis z\u00e4hlt in erster Linie, der L\u00f6sungsweg ist eher unwichtig. Dieses steht im direkten Gegenspruch zur Softwareentwicklung. Hier sind Leslickeit, Dokumentation und Skalierbarkeit wesentliche Faktoren. Ein Gro\u00dfteil der Arbeit ist somit nicht Ergebnisorientiert."
     ]
    },
    {
     "cell_type": "heading",
     "level": 2,
     "metadata": {},
     "source": [
      "2. PyCounting"
     ]
    },
    {
     "cell_type": "markdown",
     "metadata": {},
     "source": [
      "PyCounting stellt ein f\u00fcr Python geschriebens Modul dar. Die Erweiterung mit neuen Funktionen ist sehr leicht m\u00f6glich auf Grund des abstrakten und modularen Aufbaus. Durch die nahtlose Integration mit wissenschaftlichen Paketen wie matplotlib, numpy, pandas und scipy die Daten sofort weiter analysiert und dargestellt werden. Viele von diesen Funktionen sind bereits direkt als Klassen Methoden eingebaut. Aufwendiges importieren und Exportiern wird \u00fcberf\u00e4llig. Es bietet oder soll alle notwendigen Funktion und abstrahiert die einzelnen Counting Schritte. Rechenintensive Aufgaben werden wenn m\u00f6glich mit Numpy gel\u00f6st oder andernfalls in Cython realisiert. PyCounting bietet den \n",
      "\n",
      "* Dynamisch dank Python\n",
      "* Schnell dank Cython und Numpy \n",
      "* Abstrahierung\n",
      "* Iteratoren\n",
      "* Sehr modular aufgebaut\n",
      "* Be Pythonic\n",
      "\n",
      "\n",
      "Auch erlaub es Python sehr einfach lesebaren und relativ kurzen Code zu schreiben. Durch die umfangreichen wissenschaftlichen Pakete wird dieses noch weiter beg\u00fcnstig. Der Umfang von PyCounting betr\u00e4gt daher mit Kommentaren gerade einemal 1200 Zeilen und in der fertigen Version vielleicht 2000 Codezeilen. Der Versuch ein \u00e4nhliches Projekt in C/C++ zu schreiben hat bereits 5000 Zeilen hervorgebracht und es k\u00f6nnen weder Daten angezeigt oder Fit gemacht werden."
     ]
    },
    {
     "cell_type": "heading",
     "level": 2,
     "metadata": {},
     "source": [
      "3. Import"
     ]
    },
    {
     "cell_type": "markdown",
     "metadata": {},
     "source": [
      "Angabe des Pfades und importieren von PyCounting in den pyc Namensraum."
     ]
    },
    {
     "cell_type": "code",
     "collapsed": false,
     "input": [
      "pyc_path = '/home/wagner/pycounting/'"
     ],
     "language": "python",
     "metadata": {},
     "outputs": [],
     "prompt_number": 1
    },
    {
     "cell_type": "code",
     "collapsed": false,
     "input": [
      "import sys\n",
      "sys.path.append(pyc_path)\n",
      "import pycounting as pyc"
     ],
     "language": "python",
     "metadata": {},
     "outputs": [],
     "prompt_number": 2
    },
    {
     "cell_type": "heading",
     "level": 2,
     "metadata": {},
     "source": [
      "4. PyCounting Modul \u00dcbersicht"
     ]
    },
    {
     "cell_type": "markdown",
     "metadata": {},
     "source": [
      "Eine kurze Auflistung und Beschreibung aller im Modul enthaltener Klassen und Funktionen"
     ]
    },
    {
     "cell_type": "code",
     "collapsed": false,
     "input": [
      "dir(pyc)"
     ],
     "language": "python",
     "metadata": {},
     "outputs": [
      {
       "metadata": {},
       "output_type": "pyout",
       "prompt_number": 3,
       "text": [
        "['Detector',\n",
        " 'FFT',\n",
        " 'Fit',\n",
        " 'Histogram',\n",
        " 'Level',\n",
        " 'MultiBase',\n",
        " 'MultiDetector',\n",
        " 'MultiSignal',\n",
        " 'MultiTime',\n",
        " 'Signal',\n",
        " 'SignalStream',\n",
        " 'System',\n",
        " 'Time',\n",
        " 'Trace',\n",
        " '_CallableList',\n",
        " '__builtins__',\n",
        " '__doc__',\n",
        " '__file__',\n",
        " '__name__',\n",
        " '__package__',\n",
        " '_digitize',\n",
        " 'curve_fit',\n",
        " 'dtr',\n",
        " 'fexp',\n",
        " 'fit_exp',\n",
        " 'fit_levels',\n",
        " 'fit_linear',\n",
        " 'fit_normal',\n",
        " 'flevels',\n",
        " 'flinear',\n",
        " 'fnormal',\n",
        " 'getsize',\n",
        " 'glob',\n",
        " 'list_filenames',\n",
        " 'multi',\n",
        " 'np',\n",
        " 'pdetector',\n",
        " 'plt',\n",
        " 'product',\n",
        " 'psignal',\n",
        " 'ptime',\n",
        " 'tc']"
       ]
      }
     ],
     "prompt_number": 3
    },
    {
     "cell_type": "heading",
     "level": 2,
     "metadata": {},
     "source": [
      "5. Trace"
     ]
    },
    {
     "cell_type": "heading",
     "level": 3,
     "metadata": {},
     "source": [
      "5.1 Instanz erstellen"
     ]
    },
    {
     "cell_type": "markdown",
     "metadata": {},
     "source": [
      "Die Trace Instanz entspricht den original aufgezeichneten Daten. Dabei k\u00f6nnen die Daten in beliebig viele einzelne Dateien aufgesplittet sein. Typisch f\u00fcrs Counten sind Dateien mit einer Aufzeichnungsl\u00e4nge von einer Stunde. Dies entspricht je nach Datentyp einer Dateigr\u00f6\u00dfen von 1-2GB. Da der Arbeitsspeicher bei mehr st\u00fcdigen Aufzeichnungen sehr schnell voll l\u00e4uft, arbeitet die Trace Instanz direkt mit den Dateien anstatt diese in den Speicher einzulesen.  \n",
      "Damit die bin\u00e4ren Daten richtig interpretiert werden, muss der <b>Datentyp</b> mit angegeben werden. \n",
      "Desweiteren muss die <b>Samplerate</b> mit den die Daten aufgezeichnet wurden, \u00fcbergeben werden."
     ]
    },
    {
     "cell_type": "code",
     "collapsed": false,
     "input": [
      "pattern = '/run/media/wagner/FREECOM HDD/Bayer Dot/Dg3 0.888 Dg1 0.573 phonon cuppling line/data/*.count'\n",
      "trace = pyc.Trace(pattern, datatype='int', samplerate=100e3)"
     ],
     "language": "python",
     "metadata": {},
     "outputs": [],
     "prompt_number": 4
    },
    {
     "cell_type": "markdown",
     "metadata": {},
     "source": [
      "Daten k\u00f6nnen auf vielf\u00e4ltige Weise eingelesen werden. Dazu wird Pythons Slicing Syntax verwendet werden. Der R\u00fcckgabe Wert der Daten ist immer ein Numpy array."
     ]
    },
    {
     "cell_type": "heading",
     "level": 3,
     "metadata": {},
     "source": [
      "5.2 Informationen"
     ]
    },
    {
     "cell_type": "markdown",
     "metadata": {},
     "source": [
      "Auflisten aller Dateinamen die zum Trace geh\u00f6ren:"
     ]
    },
    {
     "cell_type": "code",
     "collapsed": false,
     "input": [
      "trace.files[:3]"
     ],
     "language": "python",
     "metadata": {},
     "outputs": [
      {
       "metadata": {},
       "output_type": "pyout",
       "prompt_number": 5,
       "text": [
        "['/run/media/wagner/FREECOM HDD/Bayer Dot/Dg3 0.888 Dg1 0.573 phonon cuppling line/data/00_count_-0.572987V.count',\n",
        " '/run/media/wagner/FREECOM HDD/Bayer Dot/Dg3 0.888 Dg1 0.573 phonon cuppling line/data/01_count_-0.572987V.count',\n",
        " '/run/media/wagner/FREECOM HDD/Bayer Dot/Dg3 0.888 Dg1 0.573 phonon cuppling line/data/02_count_-0.572987V.count']"
       ]
      }
     ],
     "prompt_number": 5
    },
    {
     "cell_type": "markdown",
     "metadata": {},
     "source": [
      "Anzeigen des Datentyps:"
     ]
    },
    {
     "cell_type": "code",
     "collapsed": false,
     "input": [
      "trace.datatype"
     ],
     "language": "python",
     "metadata": {},
     "outputs": [
      {
       "metadata": {},
       "output_type": "pyout",
       "prompt_number": 6,
       "text": [
        "'int'"
       ]
      }
     ],
     "prompt_number": 6
    },
    {
     "cell_type": "markdown",
     "metadata": {},
     "source": [
      "Gesamtgr\u00f6\u00dfe aller Daten berechnen:"
     ]
    },
    {
     "cell_type": "code",
     "collapsed": false,
     "input": [
      "print 'GByte: ', trace.datasize('gb')\n",
      "print 'MByte: ', trace.datasize('mb')\n",
      "print 'KByte: ', trace.datasize('kb') \n",
      "print 'Byte:  ', trace.datasize('b')"
     ],
     "language": "python",
     "metadata": {},
     "outputs": [
      {
       "output_type": "stream",
       "stream": "stdout",
       "text": [
        "GByte:  23.5203653574\n",
        "MByte:  24084.854126\n",
        "KByte:  24662890.625\n",
        "Byte:   25254800000.0\n"
       ]
      }
     ],
     "prompt_number": 7
    },
    {
     "cell_type": "markdown",
     "metadata": {},
     "source": [
      "Die Anzhal aller Datenpunkte kann mit Pythons len() Funktion ermittelt werden"
     ]
    },
    {
     "cell_type": "code",
     "collapsed": false,
     "input": [
      "len(trace)"
     ],
     "language": "python",
     "metadata": {},
     "outputs": [
      {
       "metadata": {},
       "output_type": "pyout",
       "prompt_number": 8,
       "text": [
        "6313700000"
       ]
      }
     ],
     "prompt_number": 8
    },
    {
     "cell_type": "heading",
     "level": 3,
     "metadata": {},
     "source": [
      "5.3 Indexing and Slicing"
     ]
    },
    {
     "cell_type": "markdown",
     "metadata": {},
     "source": [
      "Zum Lesen der Tracedaten wird die von Python bekannte Notation und Slicing verwendet."
     ]
    },
    {
     "cell_type": "markdown",
     "metadata": {},
     "source": [
      "Lesen des ersten Datenpunktes im Trace:"
     ]
    },
    {
     "cell_type": "code",
     "collapsed": false,
     "input": [
      "trace[0]"
     ],
     "language": "python",
     "metadata": {},
     "outputs": [
      {
       "metadata": {},
       "output_type": "pyout",
       "prompt_number": 9,
       "text": [
        "array([135101], dtype=int32)"
       ]
      }
     ],
     "prompt_number": 9
    },
    {
     "cell_type": "markdown",
     "metadata": {},
     "source": [
      "Lesen der ersten f\u00fcnf Datenpunkte:"
     ]
    },
    {
     "cell_type": "code",
     "collapsed": false,
     "input": [
      "trace[:5]"
     ],
     "language": "python",
     "metadata": {},
     "outputs": [
      {
       "metadata": {},
       "output_type": "pyout",
       "prompt_number": 10,
       "text": [
        "array([135101, 135097, 135112, 135116, 135113], dtype=int32)"
       ]
      }
     ],
     "prompt_number": 10
    },
    {
     "cell_type": "markdown",
     "metadata": {},
     "source": [
      "Lesen der Daten im Interval [27, 34)."
     ]
    },
    {
     "cell_type": "code",
     "collapsed": false,
     "input": [
      "trace[26:34]"
     ],
     "language": "python",
     "metadata": {},
     "outputs": [
      {
       "metadata": {},
       "output_type": "pyout",
       "prompt_number": 11,
       "text": [
        "array([135134, 135135, 135132, 135127, 135117, 135113, 135119, 135128], dtype=int32)"
       ]
      }
     ],
     "prompt_number": 11
    },
    {
     "cell_type": "markdown",
     "metadata": {},
     "source": [
      "Lesen jedes zweiten Datenpunktes im Interval [26, 34)."
     ]
    },
    {
     "cell_type": "code",
     "collapsed": false,
     "input": [
      "trace[26:34:2]"
     ],
     "language": "python",
     "metadata": {},
     "outputs": [
      {
       "metadata": {},
       "output_type": "pyout",
       "prompt_number": 12,
       "text": [
        "array([135134, 135132, 135117, 135119], dtype=int32)"
       ]
      }
     ],
     "prompt_number": 12
    },
    {
     "cell_type": "markdown",
     "metadata": {},
     "source": [
      "Lesen des letzten Datenpunktes im Trace:"
     ]
    },
    {
     "cell_type": "code",
     "collapsed": false,
     "input": [
      "trace[-1]"
     ],
     "language": "python",
     "metadata": {},
     "outputs": [
      {
       "metadata": {},
       "output_type": "pyout",
       "prompt_number": 13,
       "text": [
        "array([134760], dtype=int32)"
       ]
      }
     ],
     "prompt_number": 13
    },
    {
     "cell_type": "markdown",
     "metadata": {},
     "source": [
      "Lesen des letzten dreizehn Datenpunkte:"
     ]
    },
    {
     "cell_type": "code",
     "collapsed": false,
     "input": [
      "trace[-12:]"
     ],
     "language": "python",
     "metadata": {},
     "outputs": [
      {
       "metadata": {},
       "output_type": "pyout",
       "prompt_number": 14,
       "text": [
        "array([134789, 134776, 134767, 134784, 134784, 134778, 134783, 134788,\n",
        "       134781, 134759, 134764, 134760], dtype=int32)"
       ]
      }
     ],
     "prompt_number": 14
    },
    {
     "cell_type": "markdown",
     "metadata": {},
     "source": [
      "Lesen des Datenpunkte im Interval [-34, -26)"
     ]
    },
    {
     "cell_type": "code",
     "collapsed": false,
     "input": [
      "trace[-34:-26]"
     ],
     "language": "python",
     "metadata": {},
     "outputs": [
      {
       "metadata": {},
       "output_type": "pyout",
       "prompt_number": 15,
       "text": [
        "array([134778, 134771, 134776, 134765, 134783, 134782, 134784, 134776], dtype=int32)"
       ]
      }
     ],
     "prompt_number": 15
    },
    {
     "cell_type": "markdown",
     "metadata": {},
     "source": [
      "Lesen jedes zweiten Datenpunktes im Interval [-34, -26)"
     ]
    },
    {
     "cell_type": "code",
     "collapsed": false,
     "input": [
      "trace[-34:-26:2]"
     ],
     "language": "python",
     "metadata": {},
     "outputs": [
      {
       "metadata": {},
       "output_type": "pyout",
       "prompt_number": 16,
       "text": [
        "array([134778, 134776, 134783, 134784], dtype=int32)"
       ]
      }
     ],
     "prompt_number": 16
    },
    {
     "cell_type": "markdown",
     "metadata": {},
     "source": [
      "Da beim Counting meistens gro\u00dfe Datenmengen eingelesen werden m\u00fcssen, sind auch float Notationen erlaubt. \n",
      "Einlesen der ersten million Datenunkte:"
     ]
    },
    {
     "cell_type": "code",
     "collapsed": false,
     "input": [
      "trace[:1e6]"
     ],
     "language": "python",
     "metadata": {},
     "outputs": [
      {
       "metadata": {},
       "output_type": "pyout",
       "prompt_number": 17,
       "text": [
        "array([135101, 135097, 135112, ..., 134980, 134983, 134993], dtype=int32)"
       ]
      }
     ],
     "prompt_number": 17
    },
    {
     "cell_type": "heading",
     "level": 3,
     "metadata": {},
     "source": [
      "5.4 Plotten"
     ]
    },
    {
     "cell_type": "markdown",
     "metadata": {},
     "source": [
      "Zum Plotten wird auf matplotlib zur\u00fcckgegriffen. Damit die Integration schmerzfrei abl\u00e4uft bieten alle PyCounting Klassen passende Plot-Methoden an."
     ]
    },
    {
     "cell_type": "code",
     "collapsed": false,
     "input": [
      "%matplotlib inline\n",
      "import matplotlib.pyplot as plt"
     ],
     "language": "python",
     "metadata": {},
     "outputs": [],
     "prompt_number": 18
    },
    {
     "cell_type": "code",
     "collapsed": false,
     "input": [
      "fig = plt.figure(figsize=(20, 4))\n",
      "trace.plot(start=0, stop=5e3);"
     ],
     "language": "python",
     "metadata": {},
     "outputs": [
      {
       "metadata": {},
       "output_type": "display_data",
       "png": "[encoded data removed]",
       "text": [
        "<matplotlib.figure.Figure at 0x443d3d0>"
       ]
      }
     ],
     "prompt_number": 19
    },
    {
     "cell_type": "markdown",
     "metadata": {},
     "source": [
      "Es k\u00f6nnen auch die direkt die line keywords von plt.plot() verwendet werden"
     ]
    },
    {
     "cell_type": "code",
     "collapsed": false,
     "input": [
      "fig = plt.figure(figsize=(20, 4))\n",
      "trace.plot(start=900, stop=1050, \n",
      "           color='red', linestyle='--', linewidth=5,\n",
      "           marker='o', markersize=5, markerfacecolor='blue');"
     ],
     "language": "python",
     "metadata": {},
     "outputs": [
      {
       "metadata": {},
       "output_type": "display_data",
       "png": "[encoded data removed]",
       "text": [
        "<matplotlib.figure.Figure at 0x44d4550>"
       ]
      }
     ],
     "prompt_number": 20
    },
    {
     "cell_type": "heading",
     "level": 3,
     "metadata": {},
     "source": [
      "2.5 Iteration"
     ]
    },
    {
     "cell_type": "markdown",
     "metadata": {},
     "source": [
      "Zu den sch\u00f6nsten Features in Python geh\u00f6ren sicherlich Iteratoren und Generatoren. Deshlab sollen auch Traces dabei keine Ausnahme machen."
     ]
    },
    {
     "cell_type": "markdown",
     "metadata": {},
     "source": [
      "Iteration \u00fcber die ersten f\u00fcnf Datenpunkt."
     ]
    },
    {
     "cell_type": "code",
     "collapsed": false,
     "input": [
      "for datapoint in trace[:5]:\n",
      "    print datapoint, "
     ],
     "language": "python",
     "metadata": {},
     "outputs": [
      {
       "output_type": "stream",
       "stream": "stdout",
       "text": [
        "135101 135097 135112 135116 135113\n"
       ]
      }
     ],
     "prompt_number": 21
    },
    {
     "cell_type": "markdown",
     "metadata": {},
     "source": [
      "Im vorherigen wurde allerdings \u00fcber das zur\u00fcckgegebene Numpy Array iteriert. Es kann aber auch direkt \u00fcber den gesamten Trace iteriert werden. Auf diese Art und Weise m\u00fcssen die Daten nicht erst in den Speicher geladen werden. Hier brechen wir die Iteration nach f\u00fcnf Datenpunkte ab, beachte auch die enumerate() Funktion."
     ]
    },
    {
     "cell_type": "code",
     "collapsed": false,
     "input": [
      "for nr, datapoint in enumerate(trace):\n",
      "    if nr == 5: break\n",
      "    print nr, ':', datapoint"
     ],
     "language": "python",
     "metadata": {},
     "outputs": [
      {
       "output_type": "stream",
       "stream": "stdout",
       "text": [
        "0 : [135101]\n",
        "1 : [135097]\n",
        "2 : [135112]\n",
        "3 : [135116]\n",
        "4 : [135113]\n"
       ]
      }
     ],
     "prompt_number": 22
    },
    {
     "cell_type": "markdown",
     "metadata": {},
     "source": [
      "Die Iteration \u00fcber jeden einzelnen Datenpunkt ist allerdings sehr langsam. Trace bietet daher eine window() Methode an. Damit kann \u00fcber Fenster fester L\u00e4nge iteriert werden."
     ]
    },
    {
     "cell_type": "markdown",
     "metadata": {},
     "source": [
      "Iteration \u00fcber die ersten f\u00fcnf Fenster mit L\u00e4nge 500000. "
     ]
    },
    {
     "cell_type": "code",
     "collapsed": false,
     "input": [
      "for window in trace.windows(500e3, nr=5):\n",
      "    print window, 'of len', len(window)"
     ],
     "language": "python",
     "metadata": {},
     "outputs": [
      {
       "output_type": "stream",
       "stream": "stdout",
       "text": [
        "[135101 135097 135112 ..., 135057 135045 135060] of len 500000\n",
        "[135122 135131 135132 ..., 134980 134983 134993] of len 500000\n",
        "[134946 134952 134972 ..., 134964 134971 134953] of len 500000\n",
        "[135083 135085 135093 ..., 135073 135066 135080] of len 500000\n",
        "[135102 135100 135093 ..., 134932 134932 134940] of len 500000\n"
       ]
      }
     ],
     "prompt_number": 23
    },
    {
     "cell_type": "markdown",
     "metadata": {},
     "source": [
      "Alternativ kann auch eine Start- und Stopposition angeben werden. Damit kann an jeder Stelle im Trace begonnen und abgebrochen werden."
     ]
    },
    {
     "cell_type": "markdown",
     "metadata": {},
     "source": [
      "Iteration im Interval [1000000, 4000000) mit einer Fensterl\u00e4nge von 500000."
     ]
    },
    {
     "cell_type": "code",
     "collapsed": false,
     "input": [
      "for window in trace.windows(500e3, start=1000e3, stop=8*500e3):\n",
      "    print window, 'of len', len(window)"
     ],
     "language": "python",
     "metadata": {},
     "outputs": [
      {
       "output_type": "stream",
       "stream": "stdout",
       "text": [
        "[134946 134952 134972 ..., 134964 134971 134953] of len 500000\n",
        "[135083 135085 135093 ..., 135073 135066 135080] of len 500000\n",
        "[135102 135100 135093 ..., 134932 134932 134940] of len 500000\n",
        "[135067 135062 135063 ..., 135066 135083 135074] of len 500000\n",
        "[135047 135058 135048 ..., 135033 135038 135046] of len 500000\n"
       ]
      }
     ],
     "prompt_number": 24
    },
    {
     "cell_type": "markdown",
     "metadata": {},
     "source": [
      "Die window() method liefert selbst keine Daten zur\u00fcck sondern nur ein sogenanntes Generator Objekt."
     ]
    },
    {
     "cell_type": "code",
     "collapsed": false,
     "input": [
      "trace.windows(500e3, nr=5)"
     ],
     "language": "python",
     "metadata": {},
     "outputs": [
      {
       "metadata": {},
       "output_type": "pyout",
       "prompt_number": 25,
       "text": [
        "<generator object windows at 0x442a820>"
       ]
      }
     ],
     "prompt_number": 25
    },
    {
     "cell_type": "markdown",
     "metadata": {},
     "source": [
      "Erst die Iteration \u00fcber den Generator liefert einen Numpy Array ensprechender L\u00e4nge zur\u00fcck."
     ]
    },
    {
     "cell_type": "code",
     "collapsed": false,
     "input": [
      "win_gen = trace.windows(500e3, nr=5)\n",
      "win_gen.next()"
     ],
     "language": "python",
     "metadata": {},
     "outputs": [
      {
       "metadata": {},
       "output_type": "pyout",
       "prompt_number": 26,
       "text": [
        "array([135101, 135097, 135112, ..., 135057, 135045, 135060], dtype=int32)"
       ]
      }
     ],
     "prompt_number": 26
    },
    {
     "cell_type": "markdown",
     "metadata": {},
     "source": [
      "Auf diese Weise m\u00fcsse nie mehr Daten als wirklich notwendig in den Speicher gelesen werden. Das Einlesen der Daten erfolgt intern mit der Funktion fromfile() aus Numpy. Dadurhc erhalten wir die hohe Geschwindkeit."
     ]
    },
    {
     "cell_type": "heading",
     "level": 3,
     "metadata": {},
     "source": [
      "2.6 Geschafft"
     ]
    },
    {
     "cell_type": "markdown",
     "metadata": {},
     "source": [
      "Das war doch einfach. Ihr wisst jetzt alles war ihr braucht um Counting Daten zu verarbeiten."
     ]
    },
    {
     "cell_type": "heading",
     "level": 2,
     "metadata": {},
     "source": [
      "3. Histogramme"
     ]
    },
    {
     "cell_type": "heading",
     "level": 3,
     "metadata": {},
     "source": [
      "3.1 Erstellen"
     ]
    },
    {
     "cell_type": "markdown",
     "metadata": {},
     "source": [
      "Beim Counting sind Histogramme die wichtigste Darstellungsform von Daten. "
     ]
    },
    {
     "cell_type": "code",
     "collapsed": false,
     "input": [
      "histo = pyc.Histogram(data=trace[:500e3])"
     ],
     "language": "python",
     "metadata": {},
     "outputs": [],
     "prompt_number": 27
    },
    {
     "cell_type": "markdown",
     "metadata": {},
     "source": [
      "Die Anzahl Bins betr\u00e4gt standartm\u00e4\u00dfig 1000. Sie kann aber auch mit angegeben werden."
     ]
    },
    {
     "cell_type": "code",
     "collapsed": false,
     "input": [
      "histo100 = pyc.Histogram(bins=100, data=trace[:500e3])\n",
      "histo250 = pyc.Histogram(bins=100, data=trace[:500e3])"
     ],
     "language": "python",
     "metadata": {},
     "outputs": [],
     "prompt_number": 28
    },
    {
     "cell_type": "heading",
     "level": 3,
     "metadata": {},
     "source": [
      "4.1 Plotten"
     ]
    },
    {
     "cell_type": "code",
     "collapsed": false,
     "input": [
      "histo_fine = pyc.Histogram(bins=500, data=trace[0:500e3])\n",
      "histo_corse = pyc.Histogram(bins=50, data=trace[0:500e3])\n",
      "\n",
      "fig = plt.figure(figsize=(20, 5))\n",
      "ax0 = fig.add_subplot(111)\n",
      "ax1 = ax0.twinx()\n",
      "\n",
      "histo_fine.plot(ax=ax0, color='blue')\n",
      "histo_corse.plot(ax=ax1, color='red', lw=2);"
     ],
     "language": "python",
     "metadata": {},
     "outputs": [
      {
       "metadata": {},
       "output_type": "display_data",
       "png": "[encoded data removed]",
       "text": [
        "<matplotlib.figure.Figure at 0x4602210>"
       ]
      }
     ],
     "prompt_number": 29
    },
    {
     "cell_type": "heading",
     "level": 3,
     "metadata": {},
     "source": [
      "4.3 Forgeschrittenes Beispiel"
     ]
    },
    {
     "cell_type": "markdown",
     "metadata": {},
     "source": [
      "Zum Schluss noch ein fortgeschritteneres Beispiel, das Traces, Histogramme, Fits und deren graphische Darstellung kombiniert, soll hier gezeigt werden.\n",
      "\n",
      "Es wird ein Histogram aus den ersten 500e3 Datenpunkten erstellt. Dieses Histogram erstellt. Das Histogramm wird anschlie\u00dfend neben eine Ausschnitt aus dem Trace invertiert dargestellt. die y Achse vom Trace und Histogram plot soll geteilt werden."
     ]
    },
    {
     "cell_type": "code",
     "collapsed": false,
     "input": [
      "# Erstellen des Histograms\n",
      "histo = pyc.Histogram(data=trace[:500e3])\n",
      "\n",
      "# Erstellen der matplotlib Figure\n",
      "fig = plt.figure(figsize=(20,4))\n",
      "\n",
      "# Suplotgrid mit gemeinsamer y-Achse definieren\n",
      "ax0 = plt.subplot2grid((1,4), (0,0), colspan=3)\n",
      "ax1 = plt.subplot2grid((1,4), (0,3), sharey=ax0)\n",
      "\n",
      "# Plotten der Daten in die Subplots\n",
      "trace.plot(start=0, stop=10e3, ax=ax0)\n",
      "histo.plot(ax=ax1, inverted=True);"
     ],
     "language": "python",
     "metadata": {},
     "outputs": [
      {
       "metadata": {},
       "output_type": "display_data",
       "png": "[encoded data removed]",
       "text": [
        "<matplotlib.figure.Figure at 0x4619550>"
       ]
      }
     ],
     "prompt_number": 30
    },
    {
     "cell_type": "heading",
     "level": 3,
     "metadata": {},
     "source": [
      "4.4 Internes"
     ]
    },
    {
     "cell_type": "markdown",
     "metadata": {},
     "source": [
      "Zum Ende noch etwas Klasseninterens. Dies kann zur reinen Anwendung \u00fcbersprungen werden. PyCounting Histogramme unterscheiden sich von gew\u00f6hnlichen Histogrammen (dem verborgendem numpy Histogram) darin, dass die leere Bins nicht angezeigt werden. Dadurch kann sehr einfach die h\u00f6chste Aufl\u00f6sung erreicht werden und auch die Fit Funktionen liefern keine falsche Ergebnisse. Die wahren Angaben finden sich in den versteckten ._bins und ._freqs Attributen."
     ]
    },
    {
     "cell_type": "code",
     "collapsed": false,
     "input": [
      "print  'bins:  len(', histo250.bins[:5], ') =', len(histo.bins)\n",
      "print  '_bins: len(', histo250._bins[:5], ') =', len(histo._bins)\n"
     ],
     "language": "python",
     "metadata": {},
     "outputs": [
      {
       "output_type": "stream",
       "stream": "stdout",
       "text": [
        "bins:  len( [ 134801.    134846.65  134850.8   134854.95  134859.1 ] ) = 301\n",
        "_bins: len( [ 134801.    134805.15  134809.3   134813.45  134817.6 ] ) = 1001\n"
       ]
      }
     ],
     "prompt_number": 31
    },
    {
     "cell_type": "heading",
     "level": 2,
     "metadata": {},
     "source": [
      "4. Level"
     ]
    },
    {
     "cell_type": "heading",
     "level": 3,
     "metadata": {},
     "source": [
      "4.1 Erstellung"
     ]
    },
    {
     "cell_type": "markdown",
     "metadata": {},
     "source": [
      "Level definieren einen m\u00f6glichen Counting Zustand. Ein Level defniert sich physikalisch aus einem Erwartungswert (center) und einer Standartabweichung (sigma)."
     ]
    },
    {
     "cell_type": "code",
     "collapsed": false,
     "input": [
      "pyc.Level(center=134950, sigma=25)"
     ],
     "language": "python",
     "metadata": {},
     "outputs": [
      {
       "metadata": {},
       "output_type": "pyout",
       "prompt_number": 32,
       "text": [
        "Level(134950, 25)"
       ]
      }
     ],
     "prompt_number": 32
    },
    {
     "cell_type": "heading",
     "level": 3,
     "metadata": {},
     "source": [
      "4.2 Attribute"
     ]
    },
    {
     "cell_type": "markdown",
     "metadata": {},
     "source": [
      "Die Werte eines Levels lassen sich entweder relativ oder absolut anzeigen."
     ]
    },
    {
     "cell_type": "code",
     "collapsed": false,
     "input": [
      "level = pyc.Level(center=134950, sigma=25)\n",
      "\n",
      "print 'absolut: ', level.rel\n",
      "print 'relativ: ', level.abs"
     ],
     "language": "python",
     "metadata": {},
     "outputs": [
      {
       "output_type": "stream",
       "stream": "stdout",
       "text": [
        "absolut:  (134950, 25)\n",
        "relativ:  (134925, 134975)\n"
       ]
      }
     ],
     "prompt_number": 33
    },
    {
     "cell_type": "markdown",
     "metadata": {},
     "source": [
      "Auf die einzelnen Werte des Levels kann auch direkt zugegriffen werden."
     ]
    },
    {
     "cell_type": "code",
     "collapsed": false,
     "input": [
      "level = pyc.Level(center=134950, sigma=25)\n",
      "\n",
      "print 'center:', level.center\n",
      "print 'sigma: ', level.sigma\n",
      "print 'high:  ', level.high\n",
      "print 'low:   ', level.low"
     ],
     "language": "python",
     "metadata": {},
     "outputs": [
      {
       "output_type": "stream",
       "stream": "stdout",
       "text": [
        "center: 134950\n",
        "sigma:  25\n",
        "high:   134975\n",
        "low:    134925\n"
       ]
      }
     ],
     "prompt_number": 34
    },
    {
     "cell_type": "heading",
     "level": 3,
     "metadata": {},
     "source": [
      "4.2 Plotten"
     ]
    },
    {
     "cell_type": "markdown",
     "metadata": {},
     "source": [
      "Levels k\u00f6nnen auch direkt alle vertikale oder horizontale Linien geplottet werden."
     ]
    },
    {
     "cell_type": "code",
     "collapsed": false,
     "input": [
      "# Histogramm wie bekannt erstellen\n",
      "histo = pyc.Histogram(data=trace[:500e3])\n",
      "\n",
      "# Zwei Level definieren\n",
      "level0 = pyc.Level(134950, 25)\n",
      "level1 = pyc.Level(135090, 25)\n",
      "\n",
      "# Zwei benachbarte Subplots erstellen\n",
      "fig, ax = plt.subplots(1, 2, figsize=(15, 5))\n",
      "\n",
      "# Normale Darstellung\n",
      "histo.plot(ax=ax[0])\n",
      "level0.plot(ax=ax[0], color='red')\n",
      "level1.plot(ax=ax[0], color='red')\n",
      "\n",
      "# Invertierte Darstellung\n",
      "histo.plot(ax=ax[1], inverted=True)\n",
      "level0.plot(ax=ax[1], color='red', inverted=True)\n",
      "level1.plot(ax=ax[1], color='red', inverted=True);"
     ],
     "language": "python",
     "metadata": {},
     "outputs": [
      {
       "metadata": {},
       "output_type": "display_data",
       "png": "[encoded data removed]",
       "text": [
        "<matplotlib.figure.Figure at 0x4b89250>"
       ]
      }
     ],
     "prompt_number": 35
    },
    {
     "cell_type": "heading",
     "level": 2,
     "metadata": {},
     "source": [
      "5. System"
     ]
    },
    {
     "cell_type": "heading",
     "level": 3,
     "metadata": {},
     "source": [
      "5.1 Erstellung"
     ]
    },
    {
     "cell_type": "markdown",
     "metadata": {},
     "source": [
      "System ist ein Container aller Counting Zust\u00e4nde. Er beschreibt somit das vollst\u00e4ndige physikalische Counting System."
     ]
    },
    {
     "cell_type": "code",
     "collapsed": false,
     "input": [
      "pyc.System(pyc.Level(134950, 25), \n",
      "           pyc.Level(135090, 25))"
     ],
     "language": "python",
     "metadata": {},
     "outputs": [
      {
       "metadata": {},
       "output_type": "pyout",
       "prompt_number": 36,
       "text": [
        "System:\n",
        "0: Level(134950, 25)\n",
        "1: Level(135090, 25)"
       ]
      }
     ],
     "prompt_number": 36
    },
    {
     "cell_type": "heading",
     "level": 3,
     "metadata": {},
     "source": [
      "5.2 Indizierung"
     ]
    },
    {
     "cell_type": "markdown",
     "metadata": {},
     "source": [
      "Auf die Levels kann \u00fcber nummerische Indizies von 0,1,... zugegriffen werden."
     ]
    },
    {
     "cell_type": "code",
     "collapsed": false,
     "input": [
      "system = pyc.System(pyc.Level(134950, 25), pyc.Level(135090, 25))\n",
      "\n",
      "print system[0]\n",
      "print system[1]"
     ],
     "language": "python",
     "metadata": {},
     "outputs": [
      {
       "output_type": "stream",
       "stream": "stdout",
       "text": [
        "Level(134950, 25)\n",
        "Level(135090, 25)\n"
       ]
      }
     ],
     "prompt_number": 37
    },
    {
     "cell_type": "heading",
     "level": 3,
     "metadata": {},
     "source": [
      "5.3 Attribute"
     ]
    },
    {
     "cell_type": "markdown",
     "metadata": {},
     "source": [
      "Die Werte der enthaltenen Levels k\u00f6nnen als Liste zur\u00fcckgegen werden."
     ]
    },
    {
     "cell_type": "code",
     "collapsed": false,
     "input": [
      "system = pyc.System(pyc.Level(134950, 25), pyc.Level(135090, 25))\n",
      "\n",
      "print 'relativ: ', system.rel\n",
      "print 'absolut: ', system.abs"
     ],
     "language": "python",
     "metadata": {},
     "outputs": [
      {
       "output_type": "stream",
       "stream": "stdout",
       "text": [
        "relativ:  [134950, 25, 135090, 25]\n",
        "absolut:  [134925, 134975, 135065, 135115]\n"
       ]
      }
     ],
     "prompt_number": 40
    },
    {
     "cell_type": "heading",
     "level": 3,
     "metadata": {},
     "source": [
      "5.4 Fitten von Systemen"
     ]
    },
    {
     "cell_type": "markdown",
     "metadata": {},
     "source": [
      "Levels oder Systeme werden eigentlich nie per Hand erstellt. PyCounting bietet mit fit_levels() eine einfache Funktion zum Erzeugen von System aus einem Histogram. Die Funktion ben\u00f6tig ein paar gute Startwerte. Dann wird der beste Fit gesucht und das System zur\u00fcckgegeben."
     ]
    },
    {
     "cell_type": "code",
     "collapsed": false,
     "input": [
      "# Histogram erstellen\n",
      "histo = pyc.Histogram(data=trace[0:500e3])\n",
      "\n",
      "# Sysstem anfitten mit Hilfe von Startwerten\n",
      "system, fit = pyc.fit_levels(histo,\n",
      "                             start_parameters=(0.005, 134950, 20, 0.015, 135075, 20))\n",
      "print system\n",
      "\n",
      "# Plotten\n",
      "histo.plot()\n",
      "system.plot(color='red', linestyle='--')\n",
      "fit.plot(histo.bins, color='red', lw='2')"
     ],
     "language": "python",
     "metadata": {},
     "outputs": [
      {
       "output_type": "stream",
       "stream": "stdout",
       "text": [
        "System:\n",
        "0: Level(134950.364819, 26.5515724076)\n",
        "1: Level(135087.507829, 23.6427660641)\n"
       ]
      },
      {
       "metadata": {},
       "output_type": "pyout",
       "prompt_number": 39,
       "text": [
        "<matplotlib.lines.Line2D at 0x5244210>"
       ]
      },
      {
       "metadata": {},
       "output_type": "display_data",
       "png": "[encoded data removed]",
       "text": [
        "<matplotlib.figure.Figure at 0x4b94690>"
       ]
      }
     ],
     "prompt_number": 39
    }
   ],
   "metadata": {}
  }
 ]
}