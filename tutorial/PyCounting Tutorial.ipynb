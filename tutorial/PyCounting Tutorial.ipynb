{
 "metadata": {
  "name": "",
  "signature": "sha256:169dc3c70eabc7eb5e393271d8206c352e0eb56fd1c97eb9f3a5aae606ac3754"
 },
 "nbformat": 3,
 "nbformat_minor": 0,
 "worksheets": [
  {
   "cells": [
    {
     "cell_type": "code",
     "collapsed": false,
     "input": [
      "%load_ext autoreload\n",
      "%autoreload 2"
     ],
     "language": "python",
     "metadata": {},
     "outputs": [
      {
       "output_type": "stream",
       "stream": "stdout",
       "text": [
        "The autoreload extension is already loaded. To reload it, use:\n",
        "  %reload_ext autoreload\n"
       ]
      }
     ],
     "prompt_number": 8
    },
    {
     "cell_type": "heading",
     "level": 1,
     "metadata": {},
     "source": [
      "<u>PyCounting</u>"
     ]
    },
    {
     "cell_type": "heading",
     "level": 2,
     "metadata": {},
     "source": [
      "1. Allgemeines"
     ]
    },
    {
     "cell_type": "markdown",
     "metadata": {},
     "source": [
      "F\u00fcrs Elektronen-Counting sind auch bei der Analyse der aufgezeichneten Signale besondere Anforderungen notwendig. Die Digitalisierung und Analyse von Elektron-Counting Daten kann sich bereits f\u00fcr ein simples Zwei-Zustand-System sehr schwierig und m\u00fchselig erweisen. Diese Schwierigkeiten werden sicher nicht weniger f\u00fcr komplexere Systeme und h\u00f6here Samplingraten als einige 100kHz.\n",
      "\n",
      "Die Hauptschwierigkeiten liegen dabei in den beiden folgenden Punkten:\n",
      "\n",
      "* gro\u00dfe bin\u00e4re Datenmenge\n",
      "* jeder Datenpunkt muss einzeln bewertet werden\n",
      "\n",
      "Aus mehreren Gr\u00fcnden l\u00e4sst sich daher keine bekannte Standartsoftware verwenden:\n",
      "\n",
      "* Langsame Ausf\u00fchrgeschwindkeit\n",
      "* Arbeitsspeicher\n",
      "* spezielle Funktionen\n",
      "\n",
      "Zum Counten muss daher jede Funktion einzelnen programmiert oder wenigstens passend implementiert werden. In der Vergangeheit wurden dazu einzelne Skripte in C/C++ geschrieben. C/C++ bietet als kompilierte und hochoptimierte Sprache die zur Digitalisierung ben\u00f6tigte Geschwindkeit. Allerdings erfordert die Auswertung von physikalischen Daten auch immer:\n",
      "\n",
      "* graphische Darstellung\n",
      "* Manipulation (Gl\u00e4tten, FFT, ...)\n",
      "* Analyse (Fitten, Berechnen, ...)\n",
      "* Bewertung\n",
      "\n",
      "Die finale Bewertung muss anschlie\u00dfend wieder zur\u00fcck in die Analyse einflie\u00dfen. C/C++ ist zwar schnell aber damit zwangsl\u00e4ufig nicht dynamisch und interaktiv. Desweiteren sind graphische Darstellung, Manipulation und Anlyse in C/C++ nur mit riesigem Aufwand implementierbar. F\u00fcr Aufagben greift man daher \u00fcblicherweise auf geignete wissenschaftliche Programme zur Datenanlyse (IGOR, Matplab, ...) zur\u00fcck. Dazu m\u00fcssen die digitalisierten Signale und ermittelten Statistiken jedoch ersteinmal aufwendig exportiert und importiert werden. Export, Import und die Anpassung jedes Skriptes machen das R\u00fcckf\u00fchren von Ergebnissen sehr zeitaufwendig und fehleranf\u00e4llig. Der Geschwindkeitsvorteil von C/C++ ist dabei offensichtlich wieder hin. Ein ganz trivales Beispiel ist der Vergleich von den Rohdaten mit dem digitalisierten Signal an einer beliebigen Stelle.\n",
      "\n",
      "PyCounting versucht diese Schwierigkeiten zu beheben. Und vorallem m\u00f6chte es den Fokus von der Programmierung weglenken, hin auf die eigentliche Analyse der Counting Daten. Physiker sind bekanntlich sehr miese Programmierer. Das schnelle Ergebnis z\u00e4hlt in erster Linie, der L\u00f6sungsweg ist eher unwichtig. Dieses steht im direkten Gegenspruch zur Softwareentwicklung. Hier sind Leslickeit, Dokumentation und Skalierbarkeit wesentliche Faktoren. Ein Gro\u00dfteil der Arbeit ist somit nicht Ergebnisorientiert."
     ]
    },
    {
     "cell_type": "heading",
     "level": 2,
     "metadata": {},
     "source": [
      "2. PyCounting"
     ]
    },
    {
     "cell_type": "markdown",
     "metadata": {},
     "source": [
      "PyCounting stellt ein f\u00fcr Python geschriebens Modul dar. Die Erweiterung mit neuen Funktionen ist sehr leicht m\u00f6glich auf Grund des abstrakten und modularen Aufbaus. Durch die nahtlose Integration mit wissenschaftlichen Paketen wie matplotlib, numpy, pandas und scipy die Daten sofort weiter analysiert und dargestellt werden. Viele von diesen Funktionen sind bereits direkt als Klassen Methoden eingebaut. Aufwendiges importieren und Exportiern wird \u00fcberf\u00e4llig. Es bietet oder soll alle notwendigen Funktion und abstrahiert die einzelnen Counting Schritte. Rechenintensive Aufgaben werden wenn m\u00f6glich mit Numpy gel\u00f6st oder andernfalls in Cython realisiert. PyCounting bietet den \n",
      "\n",
      "* Dynamisch dank Python\n",
      "* Schnell dank Cython und Numpy \n",
      "* Abstrahierung\n",
      "* Iteratoren\n",
      "* Sehr modular aufgebaut\n",
      "* Be Pythonic\n",
      "\n",
      "\n",
      "Auch erlaub es Python sehr einfach lesebaren und relativ kurzen Code zu schreiben. Durch die umfangreichen wissenschaftlichen Pakete wird dieses noch weiter beg\u00fcnstig. Der Umfang von PyCounting betr\u00e4gt daher mit Kommentaren gerade einemal 1200 Zeilen und in der fertigen Version vielleicht 2000 Codezeilen. Der Versuch ein \u00e4nhliches Projekt in C/C++ zu schreiben hat bereits 5000 Zeilen hervorgebracht und es k\u00f6nnen weder Daten angezeigt oder Fit gemacht werden."
     ]
    },
    {
     "cell_type": "heading",
     "level": 2,
     "metadata": {},
     "source": [
      "3. Import"
     ]
    },
    {
     "cell_type": "markdown",
     "metadata": {},
     "source": [
      "Angabe des Pfades und importieren von PyCounting in den pyc Namensraum."
     ]
    },
    {
     "cell_type": "code",
     "collapsed": false,
     "input": [
      "pyc_path = '/home/wagner/pycounting/'"
     ],
     "language": "python",
     "metadata": {},
     "outputs": [],
     "prompt_number": 9
    },
    {
     "cell_type": "code",
     "collapsed": false,
     "input": [
      "import sys\n",
      "sys.path.append(pyc_path)\n",
      "import pycounting as pyc"
     ],
     "language": "python",
     "metadata": {},
     "outputs": [],
     "prompt_number": 10
    },
    {
     "cell_type": "heading",
     "level": 2,
     "metadata": {},
     "source": [
      "4. PyCounting Modul \u00dcbersicht"
     ]
    },
    {
     "cell_type": "markdown",
     "metadata": {},
     "source": [
      "Eine kurze Auflistung und Beschreibung aller im Modul enthaltener Klassen und Funktionen"
     ]
    },
    {
     "cell_type": "code",
     "collapsed": false,
     "input": [
      "dir(pyc)"
     ],
     "language": "python",
     "metadata": {},
     "outputs": [
      {
       "metadata": {},
       "output_type": "pyout",
       "prompt_number": 11,
       "text": [
        "['CallableList',\n",
        " 'Counter',\n",
        " 'Detector',\n",
        " 'FFT',\n",
        " 'Fit',\n",
        " 'Hdf5Base',\n",
        " 'Hdf5File',\n",
        " 'Histogram',\n",
        " 'HistogramBase',\n",
        " 'Level',\n",
        " 'LevelTrace',\n",
        " 'MultiBase',\n",
        " 'MultiDetector',\n",
        " 'MultiSignal',\n",
        " 'MultiTime',\n",
        " 'OrderedDict',\n",
        " 'Signal',\n",
        " 'System',\n",
        " 'Time',\n",
        " 'Trace',\n",
        " '__builtins__',\n",
        " '__doc__',\n",
        " '__file__',\n",
        " '__name__',\n",
        " '__package__',\n",
        " '_cycounting',\n",
        " 'abc',\n",
        " 'binom',\n",
        " 'current_time',\n",
        " 'curve_fit',\n",
        " 'datetime',\n",
        " 'dedent',\n",
        " 'defaultdict',\n",
        " 'dtr',\n",
        " 'fcumulants',\n",
        " 'fexp',\n",
        " 'flevels',\n",
        " 'flinear',\n",
        " 'fnormal',\n",
        " 'glob',\n",
        " 'h5py',\n",
        " 'itemgetter',\n",
        " 'izip',\n",
        " 'list_filenames',\n",
        " 'multi',\n",
        " 'np',\n",
        " 'plt',\n",
        " 'product',\n",
        " 'tc']"
       ]
      }
     ],
     "prompt_number": 11
    },
    {
     "cell_type": "heading",
     "level": 2,
     "metadata": {},
     "source": [
      "5. Trace"
     ]
    },
    {
     "cell_type": "heading",
     "level": 3,
     "metadata": {},
     "source": [
      "5.1 Instanz erstellen"
     ]
    },
    {
     "cell_type": "markdown",
     "metadata": {},
     "source": [
      "Die Trace Instanz entspricht den original aufgezeichneten Daten. Dabei k\u00f6nnen die Daten in beliebig viele einzelne Dateien aufgesplittet sein. Typisch f\u00fcrs Counten sind Dateien mit einer Aufzeichnungsl\u00e4nge von einer Stunde. Dies entspricht je nach Datentyp einer Dateigr\u00f6\u00dfen von 1-2GB. Da der Arbeitsspeicher bei mehr st\u00fcdigen Aufzeichnungen sehr schnell voll l\u00e4uft, arbeitet die Trace Instanz direkt mit den Dateien anstatt diese in den Speicher einzulesen.  \n",
      "Damit die bin\u00e4ren Daten richtig interpretiert werden, muss der <b>Datentyp</b> mit angegeben werden. \n",
      "Desweiteren muss die <b>Samplerate</b> mit den die Daten aufgezeichnet wurden, \u00fcbergeben werden."
     ]
    },
    {
     "cell_type": "code",
     "collapsed": false,
     "input": [
      "pattern = '/run/media/wagner/FREECOM HDD/Bayer Dot/Dg3 0.888 Dg1 0.573 phonon cuppling line/data/*.count'\n",
      "trace = pyc.Trace(pattern)"
     ],
     "language": "python",
     "metadata": {},
     "outputs": [],
     "prompt_number": 12
    },
    {
     "cell_type": "markdown",
     "metadata": {},
     "source": [
      "Daten k\u00f6nnen auf vielf\u00e4ltige Weise eingelesen werden. Dazu wird Pythons Slicing Syntax verwendet werden. Der R\u00fcckgabe Wert der Daten ist immer ein Numpy array."
     ]
    },
    {
     "cell_type": "heading",
     "level": 3,
     "metadata": {},
     "source": [
      "5.2 Informationen"
     ]
    },
    {
     "cell_type": "markdown",
     "metadata": {},
     "source": [
      "Auflisten aller Dateinamen die zum Trace geh\u00f6ren:"
     ]
    },
    {
     "cell_type": "code",
     "collapsed": false,
     "input": [
      "trace.files[:3]"
     ],
     "language": "python",
     "metadata": {},
     "outputs": [
      {
       "ename": "AttributeError",
       "evalue": "'str' object has no attribute 'attrs'",
       "output_type": "pyerr",
       "traceback": [
        "\u001b[1;31m---------------------------------------------------------------------------\u001b[0m\n\u001b[1;31mAttributeError\u001b[0m                            Traceback (most recent call last)",
        "\u001b[1;32m<ipython-input-13-e6a95187b3b9>\u001b[0m in \u001b[0;36m<module>\u001b[1;34m()\u001b[0m\n\u001b[1;32m----> 1\u001b[1;33m \u001b[0mtrace\u001b[0m\u001b[1;33m.\u001b[0m\u001b[0mfiles\u001b[0m\u001b[1;33m[\u001b[0m\u001b[1;33m:\u001b[0m\u001b[1;36m3\u001b[0m\u001b[1;33m]\u001b[0m\u001b[1;33m\u001b[0m\u001b[0m\n\u001b[0m",
        "\u001b[1;32m/home/wagner/pycounting/pycounting.pyc\u001b[0m in \u001b[0;36m__getattr__\u001b[1;34m(self, name)\u001b[0m\n\u001b[0;32m    122\u001b[0m \u001b[1;33m\u001b[0m\u001b[0m\n\u001b[0;32m    123\u001b[0m     \u001b[1;32mdef\u001b[0m \u001b[0m__getattr__\u001b[0m\u001b[1;33m(\u001b[0m\u001b[0mself\u001b[0m\u001b[1;33m,\u001b[0m \u001b[0mname\u001b[0m\u001b[1;33m)\u001b[0m\u001b[1;33m:\u001b[0m\u001b[1;33m\u001b[0m\u001b[0m\n\u001b[1;32m--> 124\u001b[1;33m         \u001b[1;32mreturn\u001b[0m \u001b[0mself\u001b[0m\u001b[1;33m.\u001b[0m\u001b[0mdataset\u001b[0m\u001b[1;33m.\u001b[0m\u001b[0mattrs\u001b[0m\u001b[1;33m[\u001b[0m\u001b[0mname\u001b[0m\u001b[1;33m]\u001b[0m\u001b[1;33m\u001b[0m\u001b[0m\n\u001b[0m\u001b[0;32m    125\u001b[0m \u001b[1;33m\u001b[0m\u001b[0m\n\u001b[0;32m    126\u001b[0m     \u001b[1;32mdef\u001b[0m \u001b[0m__setattr__\u001b[0m\u001b[1;33m(\u001b[0m\u001b[0mself\u001b[0m\u001b[1;33m,\u001b[0m \u001b[0mname\u001b[0m\u001b[1;33m,\u001b[0m \u001b[0mvalue\u001b[0m\u001b[1;33m)\u001b[0m\u001b[1;33m:\u001b[0m\u001b[1;33m\u001b[0m\u001b[0m\n",
        "\u001b[1;31mAttributeError\u001b[0m: 'str' object has no attribute 'attrs'"
       ]
      }
     ],
     "prompt_number": 13
    },
    {
     "cell_type": "markdown",
     "metadata": {},
     "source": [
      "Anzeigen des Datentyps:"
     ]
    },
    {
     "cell_type": "code",
     "collapsed": false,
     "input": [
      "trace.datatype"
     ],
     "language": "python",
     "metadata": {},
     "outputs": []
    },
    {
     "cell_type": "markdown",
     "metadata": {},
     "source": [
      "Gesamtgr\u00f6\u00dfe aller Daten berechnen:"
     ]
    },
    {
     "cell_type": "code",
     "collapsed": false,
     "input": [
      "print 'GByte: ', trace.datasize('gb')\n",
      "print 'MByte: ', trace.datasize('mb')\n",
      "print 'KByte: ', trace.datasize('kb') \n",
      "print 'Byte:  ', trace.datasize('b')"
     ],
     "language": "python",
     "metadata": {},
     "outputs": []
    },
    {
     "cell_type": "markdown",
     "metadata": {},
     "source": [
      "Die Anzhal aller Datenpunkte kann mit Pythons len() Funktion ermittelt werden"
     ]
    },
    {
     "cell_type": "code",
     "collapsed": false,
     "input": [
      "len(trace)"
     ],
     "language": "python",
     "metadata": {},
     "outputs": []
    },
    {
     "cell_type": "heading",
     "level": 3,
     "metadata": {},
     "source": [
      "5.3 Indexing and Slicing"
     ]
    },
    {
     "cell_type": "markdown",
     "metadata": {},
     "source": [
      "Zum Lesen der Tracedaten wird die von Python bekannte Notation und Slicing verwendet."
     ]
    },
    {
     "cell_type": "markdown",
     "metadata": {},
     "source": [
      "Lesen des ersten Datenpunktes im Trace:"
     ]
    },
    {
     "cell_type": "code",
     "collapsed": false,
     "input": [
      "trace[0]"
     ],
     "language": "python",
     "metadata": {},
     "outputs": []
    },
    {
     "cell_type": "markdown",
     "metadata": {},
     "source": [
      "Lesen der ersten f\u00fcnf Datenpunkte:"
     ]
    },
    {
     "cell_type": "code",
     "collapsed": false,
     "input": [
      "trace[:5]"
     ],
     "language": "python",
     "metadata": {},
     "outputs": []
    },
    {
     "cell_type": "markdown",
     "metadata": {},
     "source": [
      "Lesen der Daten im Interval [27, 34)."
     ]
    },
    {
     "cell_type": "code",
     "collapsed": false,
     "input": [
      "trace[26:34]"
     ],
     "language": "python",
     "metadata": {},
     "outputs": []
    },
    {
     "cell_type": "markdown",
     "metadata": {},
     "source": [
      "Lesen jedes zweiten Datenpunktes im Interval [26, 34)."
     ]
    },
    {
     "cell_type": "code",
     "collapsed": false,
     "input": [
      "trace[26:34:2]"
     ],
     "language": "python",
     "metadata": {},
     "outputs": []
    },
    {
     "cell_type": "markdown",
     "metadata": {},
     "source": [
      "Lesen des letzten Datenpunktes im Trace:"
     ]
    },
    {
     "cell_type": "code",
     "collapsed": false,
     "input": [
      "trace[-1]"
     ],
     "language": "python",
     "metadata": {},
     "outputs": []
    },
    {
     "cell_type": "markdown",
     "metadata": {},
     "source": [
      "Lesen des letzten dreizehn Datenpunkte:"
     ]
    },
    {
     "cell_type": "code",
     "collapsed": false,
     "input": [
      "trace[-12:]"
     ],
     "language": "python",
     "metadata": {},
     "outputs": []
    },
    {
     "cell_type": "markdown",
     "metadata": {},
     "source": [
      "Lesen des Datenpunkte im Interval [-34, -26)"
     ]
    },
    {
     "cell_type": "code",
     "collapsed": false,
     "input": [
      "trace[-34:-26]"
     ],
     "language": "python",
     "metadata": {},
     "outputs": []
    },
    {
     "cell_type": "markdown",
     "metadata": {},
     "source": [
      "Lesen jedes zweiten Datenpunktes im Interval [-34, -26)"
     ]
    },
    {
     "cell_type": "code",
     "collapsed": false,
     "input": [
      "trace[-34:-26:2]"
     ],
     "language": "python",
     "metadata": {},
     "outputs": []
    },
    {
     "cell_type": "markdown",
     "metadata": {},
     "source": [
      "Da beim Counting meistens gro\u00dfe Datenmengen eingelesen werden m\u00fcssen, sind auch float Notationen erlaubt. \n",
      "Einlesen der ersten million Datenunkte:"
     ]
    },
    {
     "cell_type": "code",
     "collapsed": false,
     "input": [
      "trace[:1e6]"
     ],
     "language": "python",
     "metadata": {},
     "outputs": []
    },
    {
     "cell_type": "heading",
     "level": 3,
     "metadata": {},
     "source": [
      "5.4 Plotten"
     ]
    },
    {
     "cell_type": "markdown",
     "metadata": {},
     "source": [
      "Zum Plotten wird auf matplotlib zur\u00fcckgegriffen. Damit die Integration schmerzfrei abl\u00e4uft bieten alle PyCounting Klassen passende Plot-Methoden an."
     ]
    },
    {
     "cell_type": "code",
     "collapsed": false,
     "input": [
      "%matplotlib inline\n",
      "import matplotlib.pyplot as plt"
     ],
     "language": "python",
     "metadata": {},
     "outputs": []
    },
    {
     "cell_type": "code",
     "collapsed": false,
     "input": [
      "fig = plt.figure(figsize=(20, 4))\n",
      "trace.plot(start=0, stop=5e3);"
     ],
     "language": "python",
     "metadata": {},
     "outputs": []
    },
    {
     "cell_type": "markdown",
     "metadata": {},
     "source": [
      "Es k\u00f6nnen auch die direkt die line keywords von plt.plot() verwendet werden"
     ]
    },
    {
     "cell_type": "code",
     "collapsed": false,
     "input": [
      "fig = plt.figure(figsize=(20, 4))\n",
      "trace.plot(start=1500, stop=1750,\n",
      "           color='red', linestyle='--', linewidth=5,\n",
      "           marker='o', markersize=5, markerfacecolor='blue');"
     ],
     "language": "python",
     "metadata": {},
     "outputs": []
    },
    {
     "cell_type": "heading",
     "level": 3,
     "metadata": {},
     "source": [
      "2.5 Iteration"
     ]
    },
    {
     "cell_type": "markdown",
     "metadata": {},
     "source": [
      "Zu den sch\u00f6nsten Features in Python geh\u00f6ren sicherlich Iteratoren und Generatoren. Deshlab sollen auch Traces dabei keine Ausnahme machen."
     ]
    },
    {
     "cell_type": "markdown",
     "metadata": {},
     "source": [
      "Iteration \u00fcber die ersten f\u00fcnf Datenpunkt."
     ]
    },
    {
     "cell_type": "code",
     "collapsed": false,
     "input": [
      "for datapoint in trace[:5]:\n",
      "    print datapoint, "
     ],
     "language": "python",
     "metadata": {},
     "outputs": []
    },
    {
     "cell_type": "markdown",
     "metadata": {},
     "source": [
      "Im vorherigen wurde allerdings \u00fcber das zur\u00fcckgegebene Numpy Array iteriert. Es kann aber auch direkt \u00fcber den gesamten Trace iteriert werden. Auf diese Art und Weise m\u00fcssen die Daten nicht erst in den Speicher geladen werden. Hier brechen wir die Iteration nach f\u00fcnf Datenpunkte ab, beachte auch die enumerate() Funktion."
     ]
    },
    {
     "cell_type": "code",
     "collapsed": false,
     "input": [
      "for nr, datapoint in enumerate(trace):\n",
      "    if nr == 5: break\n",
      "    print nr, ':', datapoint"
     ],
     "language": "python",
     "metadata": {},
     "outputs": []
    },
    {
     "cell_type": "markdown",
     "metadata": {},
     "source": [
      "Die Iteration \u00fcber jeden einzelnen Datenpunkt ist allerdings sehr langsam. Trace bietet daher eine window() Methode an. Damit kann \u00fcber Fenster fester L\u00e4nge iteriert werden."
     ]
    },
    {
     "cell_type": "markdown",
     "metadata": {},
     "source": [
      "Iteration \u00fcber die ersten f\u00fcnf Fenster mit L\u00e4nge 500000. "
     ]
    },
    {
     "cell_type": "code",
     "collapsed": false,
     "input": [
      "for window in trace.windows(500e3, nr=5):\n",
      "    print window, 'of len', len(window)"
     ],
     "language": "python",
     "metadata": {},
     "outputs": []
    },
    {
     "cell_type": "markdown",
     "metadata": {},
     "source": [
      "Alternativ kann auch eine Start- und Stopposition angeben werden. Damit kann an jeder Stelle im Trace begonnen und abgebrochen werden."
     ]
    },
    {
     "cell_type": "markdown",
     "metadata": {},
     "source": [
      "Iteration im Interval [1000000, 4000000) mit einer Fensterl\u00e4nge von 500000."
     ]
    },
    {
     "cell_type": "code",
     "collapsed": false,
     "input": [
      "for window in trace.windows(500e3, start=1000e3, stop=8*500e3):\n",
      "    print window, 'of len', len(window)"
     ],
     "language": "python",
     "metadata": {},
     "outputs": []
    },
    {
     "cell_type": "markdown",
     "metadata": {},
     "source": [
      "Die window() method liefert selbst keine Daten zur\u00fcck sondern nur ein sogenanntes Generator Objekt."
     ]
    },
    {
     "cell_type": "code",
     "collapsed": false,
     "input": [
      "trace.windows(500e3, nr=5)"
     ],
     "language": "python",
     "metadata": {},
     "outputs": []
    },
    {
     "cell_type": "markdown",
     "metadata": {},
     "source": [
      "Erst die Iteration \u00fcber den Generator liefert einen Numpy Array ensprechender L\u00e4nge zur\u00fcck."
     ]
    },
    {
     "cell_type": "code",
     "collapsed": false,
     "input": [
      "win_gen = trace.windows(500e3, nr=5)\n",
      "win_gen.next()"
     ],
     "language": "python",
     "metadata": {},
     "outputs": []
    },
    {
     "cell_type": "markdown",
     "metadata": {},
     "source": [
      "Auf diese Weise m\u00fcsse nie mehr Daten als wirklich notwendig in den Speicher gelesen werden. Das Einlesen der Daten erfolgt intern mit der Funktion fromfile() aus Numpy. Dadurhc erhalten wir die hohe Geschwindkeit."
     ]
    },
    {
     "cell_type": "heading",
     "level": 3,
     "metadata": {},
     "source": [
      "2.6 Geschafft"
     ]
    },
    {
     "cell_type": "markdown",
     "metadata": {},
     "source": [
      "Das war doch einfach. Ihr wisst jetzt alles war ihr braucht um Counting Daten zu verarbeiten."
     ]
    },
    {
     "cell_type": "heading",
     "level": 2,
     "metadata": {},
     "source": [
      "3. Histogramme"
     ]
    },
    {
     "cell_type": "heading",
     "level": 3,
     "metadata": {},
     "source": [
      "3.1 Erstellen"
     ]
    },
    {
     "cell_type": "markdown",
     "metadata": {},
     "source": [
      "Beim Counting sind Histogramme die wichtigste Darstellungsform von Daten. "
     ]
    },
    {
     "cell_type": "code",
     "collapsed": false,
     "input": [
      "histo = pyc.Histogram(data=trace[:500e3])"
     ],
     "language": "python",
     "metadata": {},
     "outputs": [
      {
       "ename": "TypeError",
       "evalue": "cannot perform reduce with flexible type",
       "output_type": "pyerr",
       "traceback": [
        "\u001b[1;31m---------------------------------------------------------------------------\u001b[0m\n\u001b[1;31mTypeError\u001b[0m                                 Traceback (most recent call last)",
        "\u001b[1;32m<ipython-input-14-3822162f9af1>\u001b[0m in \u001b[0;36m<module>\u001b[1;34m()\u001b[0m\n\u001b[1;32m----> 1\u001b[1;33m \u001b[0mhisto\u001b[0m \u001b[1;33m=\u001b[0m \u001b[0mpyc\u001b[0m\u001b[1;33m.\u001b[0m\u001b[0mHistogram\u001b[0m\u001b[1;33m(\u001b[0m\u001b[0mdata\u001b[0m\u001b[1;33m=\u001b[0m\u001b[0mtrace\u001b[0m\u001b[1;33m[\u001b[0m\u001b[1;33m:\u001b[0m\u001b[1;36m500e3\u001b[0m\u001b[1;33m]\u001b[0m\u001b[1;33m)\u001b[0m\u001b[1;33m\u001b[0m\u001b[0m\n\u001b[0m",
        "\u001b[1;32m/home/wagner/pycounting/pycounting.pyc\u001b[0m in \u001b[0;36m__init__\u001b[1;34m(self, bins, width, data)\u001b[0m\n\u001b[0;32m    829\u001b[0m             \u001b[0mself\u001b[0m\u001b[1;33m.\u001b[0m\u001b[0m_width\u001b[0m \u001b[1;33m=\u001b[0m \u001b[0mwidth\u001b[0m\u001b[1;33m\u001b[0m\u001b[0m\n\u001b[0;32m    830\u001b[0m         \u001b[1;32melse\u001b[0m\u001b[1;33m:\u001b[0m\u001b[1;33m\u001b[0m\u001b[0m\n\u001b[1;32m--> 831\u001b[1;33m             \u001b[0mself\u001b[0m\u001b[1;33m.\u001b[0m\u001b[0m_freqs\u001b[0m\u001b[1;33m,\u001b[0m \u001b[0mself\u001b[0m\u001b[1;33m.\u001b[0m\u001b[0m_bins\u001b[0m \u001b[1;33m=\u001b[0m \u001b[0mnp\u001b[0m\u001b[1;33m.\u001b[0m\u001b[0mhistogram\u001b[0m\u001b[1;33m(\u001b[0m\u001b[0mdata\u001b[0m\u001b[1;33m,\u001b[0m \u001b[0mbins\u001b[0m\u001b[1;33m,\u001b[0m \u001b[0mwidth\u001b[0m\u001b[1;33m)\u001b[0m\u001b[1;33m\u001b[0m\u001b[0m\n\u001b[0m\u001b[0;32m    832\u001b[0m \u001b[1;33m\u001b[0m\u001b[0m\n\u001b[0;32m    833\u001b[0m     \u001b[1;32mdef\u001b[0m \u001b[0madd\u001b[0m\u001b[1;33m(\u001b[0m\u001b[0mself\u001b[0m\u001b[1;33m,\u001b[0m \u001b[0mdata\u001b[0m\u001b[1;33m)\u001b[0m\u001b[1;33m:\u001b[0m\u001b[1;33m\u001b[0m\u001b[0m\n",
        "\u001b[1;32m/usr/lib64/python2.7/site-packages/numpy/lib/function_base.pyc\u001b[0m in \u001b[0;36mhistogram\u001b[1;34m(a, bins, range, normed, weights, density)\u001b[0m\n\u001b[0;32m    173\u001b[0m                 \u001b[0mrange\u001b[0m \u001b[1;33m=\u001b[0m \u001b[1;33m(\u001b[0m\u001b[1;36m0\u001b[0m\u001b[1;33m,\u001b[0m \u001b[1;36m1\u001b[0m\u001b[1;33m)\u001b[0m\u001b[1;33m\u001b[0m\u001b[0m\n\u001b[0;32m    174\u001b[0m             \u001b[1;32melse\u001b[0m\u001b[1;33m:\u001b[0m\u001b[1;33m\u001b[0m\u001b[0m\n\u001b[1;32m--> 175\u001b[1;33m                 \u001b[0mrange\u001b[0m \u001b[1;33m=\u001b[0m \u001b[1;33m(\u001b[0m\u001b[0ma\u001b[0m\u001b[1;33m.\u001b[0m\u001b[0mmin\u001b[0m\u001b[1;33m(\u001b[0m\u001b[1;33m)\u001b[0m\u001b[1;33m,\u001b[0m \u001b[0ma\u001b[0m\u001b[1;33m.\u001b[0m\u001b[0mmax\u001b[0m\u001b[1;33m(\u001b[0m\u001b[1;33m)\u001b[0m\u001b[1;33m)\u001b[0m\u001b[1;33m\u001b[0m\u001b[0m\n\u001b[0m\u001b[0;32m    176\u001b[0m         \u001b[0mmn\u001b[0m\u001b[1;33m,\u001b[0m \u001b[0mmx\u001b[0m \u001b[1;33m=\u001b[0m \u001b[1;33m[\u001b[0m\u001b[0mmi\u001b[0m\u001b[1;33m+\u001b[0m\u001b[1;36m0.0\u001b[0m \u001b[1;32mfor\u001b[0m \u001b[0mmi\u001b[0m \u001b[1;32min\u001b[0m \u001b[0mrange\u001b[0m\u001b[1;33m]\u001b[0m\u001b[1;33m\u001b[0m\u001b[0m\n\u001b[0;32m    177\u001b[0m         \u001b[1;32mif\u001b[0m \u001b[0mmn\u001b[0m \u001b[1;33m==\u001b[0m \u001b[0mmx\u001b[0m\u001b[1;33m:\u001b[0m\u001b[1;33m\u001b[0m\u001b[0m\n",
        "\u001b[1;32m/usr/lib64/python2.7/site-packages/numpy/core/_methods.pyc\u001b[0m in \u001b[0;36m_amin\u001b[1;34m(a, axis, out, keepdims)\u001b[0m\n\u001b[0;32m     19\u001b[0m \u001b[1;32mdef\u001b[0m \u001b[0m_amin\u001b[0m\u001b[1;33m(\u001b[0m\u001b[0ma\u001b[0m\u001b[1;33m,\u001b[0m \u001b[0maxis\u001b[0m\u001b[1;33m=\u001b[0m\u001b[0mNone\u001b[0m\u001b[1;33m,\u001b[0m \u001b[0mout\u001b[0m\u001b[1;33m=\u001b[0m\u001b[0mNone\u001b[0m\u001b[1;33m,\u001b[0m \u001b[0mkeepdims\u001b[0m\u001b[1;33m=\u001b[0m\u001b[0mFalse\u001b[0m\u001b[1;33m)\u001b[0m\u001b[1;33m:\u001b[0m\u001b[1;33m\u001b[0m\u001b[0m\n\u001b[0;32m     20\u001b[0m     return um.minimum.reduce(a, axis=axis,\n\u001b[1;32m---> 21\u001b[1;33m                             out=out, keepdims=keepdims)\n\u001b[0m\u001b[0;32m     22\u001b[0m \u001b[1;33m\u001b[0m\u001b[0m\n\u001b[0;32m     23\u001b[0m \u001b[1;32mdef\u001b[0m \u001b[0m_sum\u001b[0m\u001b[1;33m(\u001b[0m\u001b[0ma\u001b[0m\u001b[1;33m,\u001b[0m \u001b[0maxis\u001b[0m\u001b[1;33m=\u001b[0m\u001b[0mNone\u001b[0m\u001b[1;33m,\u001b[0m \u001b[0mdtype\u001b[0m\u001b[1;33m=\u001b[0m\u001b[0mNone\u001b[0m\u001b[1;33m,\u001b[0m \u001b[0mout\u001b[0m\u001b[1;33m=\u001b[0m\u001b[0mNone\u001b[0m\u001b[1;33m,\u001b[0m \u001b[0mkeepdims\u001b[0m\u001b[1;33m=\u001b[0m\u001b[0mFalse\u001b[0m\u001b[1;33m)\u001b[0m\u001b[1;33m:\u001b[0m\u001b[1;33m\u001b[0m\u001b[0m\n",
        "\u001b[1;31mTypeError\u001b[0m: cannot perform reduce with flexible type"
       ]
      }
     ],
     "prompt_number": 14
    },
    {
     "cell_type": "markdown",
     "metadata": {},
     "source": [
      "Die Anzahl Bins betr\u00e4gt standartm\u00e4\u00dfig 1000. Sie kann aber auch mit angegeben werden."
     ]
    },
    {
     "cell_type": "code",
     "collapsed": false,
     "input": [
      "histo100 = pyc.Histogram(bins=100, data=trace[:500e3])\n",
      "histo250 = pyc.Histogram(bins=100, data=trace[:500e3])"
     ],
     "language": "python",
     "metadata": {},
     "outputs": []
    },
    {
     "cell_type": "heading",
     "level": 3,
     "metadata": {},
     "source": [
      "4.1 Plotten"
     ]
    },
    {
     "cell_type": "code",
     "collapsed": false,
     "input": [
      "histo_fine = pyc.Histogram(bins=500, data=trace[0:500e3])\n",
      "histo_corse = pyc.Histogram(bins=50, data=trace[0:500e3])\n",
      "\n",
      "fig = plt.figure(figsize=(20, 5))\n",
      "ax0 = fig.add_subplot(111)\n",
      "ax1 = ax0.twinx()\n",
      "\n",
      "histo_fine.plot(ax=ax0, color='blue')\n",
      "histo_corse.plot(ax=ax1, color='red', lw=2);"
     ],
     "language": "python",
     "metadata": {},
     "outputs": []
    },
    {
     "cell_type": "heading",
     "level": 3,
     "metadata": {},
     "source": [
      "4.3 Forgeschrittenes Beispiel"
     ]
    },
    {
     "cell_type": "markdown",
     "metadata": {},
     "source": [
      "Zum Schluss noch ein fortgeschritteneres Beispiel, das Traces, Histogramme, Fits und deren graphische Darstellung kombiniert, soll hier gezeigt werden.\n",
      "\n",
      "Es wird ein Histogram aus den ersten 500e3 Datenpunkten erstellt. Dieses Histogram erstellt. Das Histogramm wird anschlie\u00dfend neben eine Ausschnitt aus dem Trace invertiert dargestellt. die y Achse vom Trace und Histogram plot soll geteilt werden."
     ]
    },
    {
     "cell_type": "code",
     "collapsed": false,
     "input": [
      "# Erstellen des Histograms\n",
      "histo = pyc.Histogram(data=trace[:500e3])\n",
      "\n",
      "# Erstellen der matplotlib Figure\n",
      "fig = plt.figure(figsize=(20,4))\n",
      "\n",
      "# Suplotgrid mit gemeinsamer y-Achse definieren\n",
      "ax0 = plt.subplot2grid((1,4), (0,0), colspan=3)\n",
      "ax1 = plt.subplot2grid((1,4), (0,3), sharey=ax0)\n",
      "\n",
      "# Plotten der Daten in die Subplots\n",
      "trace.plot(start=0, stop=10e3, ax=ax0)\n",
      "histo.plot(ax=ax1, inverted=True);"
     ],
     "language": "python",
     "metadata": {},
     "outputs": []
    },
    {
     "cell_type": "heading",
     "level": 3,
     "metadata": {},
     "source": [
      "4.4 Internes"
     ]
    },
    {
     "cell_type": "markdown",
     "metadata": {},
     "source": [
      "Zum Ende noch etwas Klasseninterens. Dies kann zur reinen Anwendung \u00fcbersprungen werden. PyCounting Histogramme unterscheiden sich von gew\u00f6hnlichen Histogrammen (dem verborgendem numpy Histogram) darin, dass die leere Bins nicht angezeigt werden. Dadurch kann sehr einfach die h\u00f6chste Aufl\u00f6sung erreicht werden und auch die Fit Funktionen liefern keine falsche Ergebnisse. Die wahren Angaben finden sich in den versteckten ._bins und ._freqs Attributen."
     ]
    },
    {
     "cell_type": "code",
     "collapsed": false,
     "input": [
      "print  'bins:  len(', histo250.bins[:5], ') =', len(histo.bins)\n",
      "print  '_bins: len(', histo250._bins[:5], ') =', len(histo._bins)"
     ],
     "language": "python",
     "metadata": {},
     "outputs": []
    },
    {
     "cell_type": "heading",
     "level": 2,
     "metadata": {},
     "source": [
      "4. Level"
     ]
    },
    {
     "cell_type": "heading",
     "level": 3,
     "metadata": {},
     "source": [
      "4.1 Erstellung"
     ]
    },
    {
     "cell_type": "markdown",
     "metadata": {},
     "source": [
      "Level definieren einen m\u00f6glichen Counting Zustand. Ein Level defniert sich physikalisch aus einem Erwartungswert (center) und einer Standartabweichung (sigma)."
     ]
    },
    {
     "cell_type": "code",
     "collapsed": false,
     "input": [
      "pyc.Level(center=134950, sigma=25)"
     ],
     "language": "python",
     "metadata": {},
     "outputs": []
    },
    {
     "cell_type": "heading",
     "level": 3,
     "metadata": {},
     "source": [
      "4.2 Attribute"
     ]
    },
    {
     "cell_type": "markdown",
     "metadata": {},
     "source": [
      "Die Werte eines Levels lassen sich entweder relativ oder absolut anzeigen."
     ]
    },
    {
     "cell_type": "code",
     "collapsed": false,
     "input": [
      "level = pyc.Level(center=134950, sigma=25)\n",
      "\n",
      "print 'absolut: ', level.rel\n",
      "print 'relativ: ', level.abs"
     ],
     "language": "python",
     "metadata": {},
     "outputs": []
    },
    {
     "cell_type": "markdown",
     "metadata": {},
     "source": [
      "Auf die einzelnen Werte des Levels kann auch direkt zugegriffen werden."
     ]
    },
    {
     "cell_type": "code",
     "collapsed": false,
     "input": [
      "level = pyc.Level(center=134950, sigma=25)\n",
      "\n",
      "print 'center:', level.center\n",
      "print 'sigma: ', level.sigma\n",
      "print 'high:  ', level.high\n",
      "print 'low:   ', level.low"
     ],
     "language": "python",
     "metadata": {},
     "outputs": []
    },
    {
     "cell_type": "heading",
     "level": 3,
     "metadata": {},
     "source": [
      "4.2 Plotten"
     ]
    },
    {
     "cell_type": "markdown",
     "metadata": {},
     "source": [
      "Levels k\u00f6nnen auch direkt alle vertikale oder horizontale Linien geplottet werden."
     ]
    },
    {
     "cell_type": "code",
     "collapsed": false,
     "input": [
      "# Histogramm wie bekannt erstellen\n",
      "histo = pyc.Histogram(data=trace[:500e3])\n",
      "\n",
      "# Zwei Level definieren\n",
      "level0 = pyc.Level(134950, 25)\n",
      "level1 = pyc.Level(135090, 25)\n",
      "\n",
      "# Zwei benachbarte Subplots erstellen\n",
      "fig, ax = plt.subplots(1, 2, figsize=(15, 5))\n",
      "\n",
      "# Normale Darstellung\n",
      "histo.plot(ax=ax[0])\n",
      "level0.plot(ax=ax[0], color='red')\n",
      "level1.plot(ax=ax[0], color='red')\n",
      "\n",
      "# Invertierte Darstellung\n",
      "histo.plot(ax=ax[1], inverted=True)\n",
      "level0.plot(ax=ax[1], color='red', inverted=True)\n",
      "level1.plot(ax=ax[1], color='red', inverted=True)"
     ],
     "language": "python",
     "metadata": {},
     "outputs": []
    },
    {
     "cell_type": "heading",
     "level": 1,
     "metadata": {},
     "source": [
      "5. System"
     ]
    },
    {
     "cell_type": "heading",
     "level": 2,
     "metadata": {},
     "source": [
      "5.1 Erstellung"
     ]
    },
    {
     "cell_type": "markdown",
     "metadata": {},
     "source": [
      "System ist ein Container aller Counting Zust\u00e4nde. Er beschreibt somit das vollst\u00e4ndige physikalische Counting System."
     ]
    },
    {
     "cell_type": "code",
     "collapsed": false,
     "input": [
      "pyc.System(pyc.Level(134950, 25), \n",
      "           pyc.Level(135090, 25))"
     ],
     "language": "python",
     "metadata": {},
     "outputs": []
    },
    {
     "cell_type": "heading",
     "level": 3,
     "metadata": {},
     "source": [
      "5.2 Indizierung"
     ]
    },
    {
     "cell_type": "markdown",
     "metadata": {},
     "source": [
      "Auf die Levels kann \u00fcber nummerische Indizies von 0,1,... zugegriffen werden."
     ]
    },
    {
     "cell_type": "code",
     "collapsed": false,
     "input": [
      "system = pyc.System(pyc.Level(134950, 25), pyc.Level(135090, 25))\n",
      "\n",
      "print system[0]\n",
      "print system[1]"
     ],
     "language": "python",
     "metadata": {},
     "outputs": []
    },
    {
     "cell_type": "heading",
     "level": 3,
     "metadata": {},
     "source": [
      "5.3 Attribute"
     ]
    },
    {
     "cell_type": "markdown",
     "metadata": {},
     "source": [
      "Die Werte der enthaltenen Levels k\u00f6nnen als Liste zur\u00fcckgegen werden."
     ]
    },
    {
     "cell_type": "code",
     "collapsed": false,
     "input": [
      "system = pyc.System(pyc.Level(134950, 25), pyc.Level(135090, 25))\n",
      "\n",
      "print 'relativ: ', system.rel\n",
      "print 'absolut: ', system.abs"
     ],
     "language": "python",
     "metadata": {},
     "outputs": []
    },
    {
     "cell_type": "heading",
     "level": 2,
     "metadata": {},
     "source": [
      "5.4 Fitten von Systemen"
     ]
    },
    {
     "cell_type": "markdown",
     "metadata": {},
     "source": [
      "Levels oder Systeme werden eigentlich nie per Hand erstellt. PyCounting bietet mit fit_levels() eine einfache Funktion zum Erzeugen von System aus einem Histogram. Die Funktion ben\u00f6tig ein paar gute Startwerte. Dann wird der beste Fit gesucht und das System zur\u00fcckgegeben."
     ]
    },
    {
     "cell_type": "code",
     "collapsed": false,
     "input": [
      "# Histogram erstellen\n",
      "histo = pyc.Histogram(data=trace[0:500e3])\n",
      "\n",
      "# System anfitten mit Hilfe von Startwerten\n",
      "system, fit = pyc.System.from_histogram(histo,\n",
      "                             start_parameters=(0.005, 134950, 20, 0.015, 135075, 20))\n",
      "print system\n",
      "\n",
      "# Plotten\n",
      "histo.plot()\n",
      "system.plot(color='red', linestyle='--')\n",
      "fit.plot(histo.bins, color='red', lw='2')"
     ],
     "language": "python",
     "metadata": {},
     "outputs": []
    },
    {
     "cell_type": "heading",
     "level": 2,
     "metadata": {},
     "source": [
      "6. LevelTrace"
     ]
    },
    {
     "cell_type": "markdown",
     "metadata": {},
     "source": [
      "Wir werden als n\u00e4chstes die zeitliche Entwicklung der Levels untersuchen. Dazu wird der Trace in Windows konstanter L\u00e4nge zerlegt. F\u00fcr jedes Window erstellen wir ein Histogramm und fitten die Levels an. PyCounting stellt f\u00fcr diese Aufgabe LevelTrace zur Verf\u00fcgung. "
     ]
    },
    {
     "cell_type": "markdown",
     "metadata": {},
     "source": [
      "LevelTrace speichert die Leveldaten im HDF5 Dateiformat. Zur Erstellung einer neuen Instanz wird daher als erster Parameter der create() Methode eine h5py.File() \u00fcbergeben und als zweites das Schl\u00fcssewort f\u00fcr das Dataset.  "
     ]
    },
    {
     "cell_type": "heading",
     "level": 3,
     "metadata": {},
     "source": [
      "6.1 Create"
     ]
    },
    {
     "cell_type": "code",
     "collapsed": false,
     "input": [
      "import h5py\n",
      "\n",
      "trace_file = h5py.File('trace.test')\n",
      "ltrace = pyc.LevelTrace.create(hdf5_file=trace_file, key='trace', nr_of_levels=2, time_constant=100e3)"
     ],
     "language": "python",
     "metadata": {},
     "outputs": [
      {
       "ename": "TypeError",
       "evalue": "create() got an unexpected keyword argument 'key'",
       "output_type": "pyerr",
       "traceback": [
        "\u001b[1;31m---------------------------------------------------------------------------\u001b[0m\n\u001b[1;31mTypeError\u001b[0m                                 Traceback (most recent call last)",
        "\u001b[1;32m<ipython-input-15-e681fb446b7b>\u001b[0m in \u001b[0;36m<module>\u001b[1;34m()\u001b[0m\n\u001b[0;32m      2\u001b[0m \u001b[1;33m\u001b[0m\u001b[0m\n\u001b[0;32m      3\u001b[0m \u001b[0mtrace_file\u001b[0m \u001b[1;33m=\u001b[0m \u001b[0mh5py\u001b[0m\u001b[1;33m.\u001b[0m\u001b[0mFile\u001b[0m\u001b[1;33m(\u001b[0m\u001b[1;34m'trace.test'\u001b[0m\u001b[1;33m)\u001b[0m\u001b[1;33m\u001b[0m\u001b[0m\n\u001b[1;32m----> 4\u001b[1;33m \u001b[0mltrace\u001b[0m \u001b[1;33m=\u001b[0m \u001b[0mpyc\u001b[0m\u001b[1;33m.\u001b[0m\u001b[0mLevelTrace\u001b[0m\u001b[1;33m.\u001b[0m\u001b[0mcreate\u001b[0m\u001b[1;33m(\u001b[0m\u001b[0mhdf5_file\u001b[0m\u001b[1;33m=\u001b[0m\u001b[0mtrace_file\u001b[0m\u001b[1;33m,\u001b[0m \u001b[0mkey\u001b[0m\u001b[1;33m=\u001b[0m\u001b[1;34m'trace'\u001b[0m\u001b[1;33m,\u001b[0m \u001b[0mnr_of_levels\u001b[0m\u001b[1;33m=\u001b[0m\u001b[1;36m2\u001b[0m\u001b[1;33m,\u001b[0m \u001b[0mtime_constant\u001b[0m\u001b[1;33m=\u001b[0m\u001b[1;36m100e3\u001b[0m\u001b[1;33m)\u001b[0m\u001b[1;33m\u001b[0m\u001b[0m\n\u001b[0m",
        "\u001b[1;31mTypeError\u001b[0m: create() got an unexpected keyword argument 'key'"
       ]
      }
     ],
     "prompt_number": 15
    },
    {
     "cell_type": "code",
     "collapsed": false,
     "input": [
      "\n",
      "system, fit = pyc.System.from_histogram(pyc.Histogram(data=trace[:100e3]),\n",
      "                             start_parameters=(0.005, 134950, 20, 0.015, 135075, 20))\n",
      "\n",
      "\n",
      "for window in trace.windows(100e3, nr=60):\n",
      "    histo = pyc.Histogram(data=window)\n",
      "    system, fit = ltrace.fit(histo, fit.parameters)"
     ],
     "language": "python",
     "metadata": {},
     "outputs": []
    },
    {
     "cell_type": "markdown",
     "metadata": {},
     "source": [
      "Plotte die Daten zwischen dem was hier sein soll"
     ]
    },
    {
     "cell_type": "code",
     "collapsed": false,
     "input": [
      "fig, ax = plt.subplots(3, 1, figsize=(20, 6))\n",
      "ltrace.plot(show=('center0', 'center1'), ax=ax[0])\n",
      "ltrace.plot(show=('sigma0',  'sigma1'),  ax=ax[1])\n",
      "ltrace.plot(show=('hight0',  'hight1'),  ax=ax[2]);"
     ],
     "language": "python",
     "metadata": {},
     "outputs": []
    }
   ],
   "metadata": {}
  }
 ]
}